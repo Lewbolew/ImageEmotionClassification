{
 "cells": [
  {
   "cell_type": "code",
   "execution_count": 1,
   "metadata": {},
   "outputs": [],
   "source": [
    "from numpy.random import seed\n",
    "import numpy as np\n",
    "from numpy.random import randn\n",
    "from numpy import mean\n",
    "from numpy import std\n",
    "from skimage import io, transform\n",
    "import matplotlib.pyplot as plt\n",
    "from scipy.stats import mannwhitneyu, wilcoxon\n",
    "from time import time\n",
    "import cv2\n",
    "import PIL\n",
    "from torchvision.transforms import Resize\n"
   ]
  },
  {
   "cell_type": "markdown",
   "metadata": {},
   "source": [
    "# Image reading"
   ]
  },
  {
   "cell_type": "code",
   "execution_count": 26,
   "metadata": {},
   "outputs": [],
   "source": [
    "X_cv = cv2.imread('/home/bohdan/ImageEmotionClassification/769309299185025024-1.jpg')\n",
    "X_cv = cv2.cvtColor(X_cv, cv2.COLOR_BGR2RGB)\n",
    "\n",
    "X_pil = PIL.Image.open('/home/bohdan/ImageEmotionClassification/769309299185025024-1.jpg')\n",
    "X_py = PIL.Image.open('/home/bohdan/ImageEmotionClassification/769309299185025024-1.jpg')\n",
    "\n",
    "pytorch_resizer = Resize((256,256), interpolation=PIL.Image.NEAREST)\n",
    "pytorch_resizer_invert = Resize((1024,1024),interpolation=PIL.Image.NEAREST)"
   ]
  },
  {
   "cell_type": "markdown",
   "metadata": {},
   "source": [
    "# Nearest-neighbor interpolation"
   ]
  },
  {
   "cell_type": "code",
   "execution_count": 31,
   "metadata": {},
   "outputs": [],
   "source": [
    "times_nearest = []\n",
    "times_nearest_pil = []\n",
    "times_nearest_py = []\n",
    "\n",
    "for i in range(1000):\n",
    "    start_time = time()\n",
    "    X_cv = cv2.resize(X_cv, (256, 256), interpolation=cv2.INTER_NEAREST)\n",
    "    X_cv = cv2.resize(X_cv, (1024, 1024),interpolation=cv2.INTER_NEAREST)\n",
    "    times_nearest.append(time() - start_time)\n",
    "\n",
    "    start_time = time()\n",
    "    X_pil = X_pil.resize((256, 256), PIL.Image.NEAREST)\n",
    "    X_pil = X_pil.resize((1024, 1024), PIL.Image.NEAREST)\n",
    "    times_nearest_pil.append(time() - start_time)    \n",
    "\n",
    "    start_time = time()\n",
    "    X_py = pytorch_resizer(X_py)\n",
    "    X_py = pytorch_resizer_invert(X_py)\n",
    "    times_nearest_py.append(time() - start_time)\n"
   ]
  },
  {
   "cell_type": "code",
   "execution_count": 34,
   "metadata": {},
   "outputs": [
    {
     "name": "stdout",
     "output_type": "stream",
     "text": [
      "CV2:  --- 0.0013388545513153076 seconds ---\n",
      "PIL:  --- 0.007435911417007447 seconds ---\n",
      "Torch:--- 0.006956628084182739 seconds ---\n"
     ]
    }
   ],
   "source": [
    "print(\"CV2: \",\"--- %s seconds ---\" % (sum(times_nearest)/len(times_nearest)))\n",
    "print(\"PIL: \",\"--- %s seconds ---\" % (sum(times_nearest_pil)/len(times_nearest_pil)))\n",
    "print(\"Torch:--- %s seconds ---\" % (sum(times_nearest_py)/len(times_nearest_py)))"
   ]
  },
  {
   "cell_type": "markdown",
   "metadata": {},
   "source": [
    "# Bilinear interpolation"
   ]
  },
  {
   "cell_type": "code",
   "execution_count": null,
   "metadata": {},
   "outputs": [],
   "source": []
  }
 ],
 "metadata": {
  "kernelspec": {
   "display_name": "Python 3",
   "language": "python",
   "name": "python3"
  },
  "language_info": {
   "codemirror_mode": {
    "name": "ipython",
    "version": 3
   },
   "file_extension": ".py",
   "mimetype": "text/x-python",
   "name": "python",
   "nbconvert_exporter": "python",
   "pygments_lexer": "ipython3",
   "version": "3.6.3"
  }
 },
 "nbformat": 4,
 "nbformat_minor": 2
}
